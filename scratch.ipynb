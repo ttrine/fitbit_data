{
 "cells": [
  {
   "cell_type": "code",
   "execution_count": 1,
   "metadata": {},
   "outputs": [],
   "source": [
    "import fitbit\n",
    "from fitbit import gather_keys_oauth2 as Oauth2\n",
    "import pandas as pd \n",
    "import datetime\n",
    "from dateutil.parser import parse\n",
    "from matplotlib import pyplot as plt\n",
    "\n",
    "CLIENT_ID = '22B9G6'\n",
    "CLIENT_SECRET = '2b8a440525489bc01643932e5cfc875e'"
   ]
  },
  {
   "cell_type": "code",
   "execution_count": 2,
   "metadata": {},
   "outputs": [
    {
     "name": "stderr",
     "output_type": "stream",
     "text": [
      "[21/Dec/2019:12:16:25] ENGINE Listening for SIGTERM.\n",
      "[21/Dec/2019:12:16:25] ENGINE Listening for SIGHUP.\n",
      "[21/Dec/2019:12:16:25] ENGINE Listening for SIGUSR1.\n",
      "[21/Dec/2019:12:16:25] ENGINE Bus STARTING\n",
      "CherryPy Checker:\n",
      "The Application mounted at '' has an empty config.\n",
      "\n",
      "[21/Dec/2019:12:16:25] ENGINE Started monitor thread 'Autoreloader'.\n",
      "[21/Dec/2019:12:16:25] ENGINE Serving on http://127.0.0.1:8080\n",
      "[21/Dec/2019:12:16:25] ENGINE Bus STARTED\n"
     ]
    },
    {
     "name": "stdout",
     "output_type": "stream",
     "text": [
      "127.0.0.1 - - [21/Dec/2019:12:16:27] \"GET /?code=8b6d9f4a48cbfdf41c574a073a744f37873b82b1&state=cwPNeUP863DlwooXJ6yPee4m8G95KN HTTP/1.1\" 200 122 \"\" \"Mozilla/5.0 (Macintosh; Intel Mac OS X 10_15_1) AppleWebKit/537.36 (KHTML, like Gecko) Chrome/79.0.3945.79 Safari/537.36\"\n"
     ]
    },
    {
     "name": "stderr",
     "output_type": "stream",
     "text": [
      "[21/Dec/2019:12:16:28] ENGINE Bus STOPPING\n",
      "[21/Dec/2019:12:16:28] ENGINE HTTP Server cherrypy._cpwsgi_server.CPWSGIServer(('127.0.0.1', 8080)) shut down\n",
      "[21/Dec/2019:12:16:28] ENGINE Stopped thread 'Autoreloader'.\n",
      "[21/Dec/2019:12:16:28] ENGINE Bus STOPPED\n",
      "[21/Dec/2019:12:16:28] ENGINE Bus EXITING\n",
      "[21/Dec/2019:12:16:28] ENGINE Bus EXITED\n",
      "[21/Dec/2019:12:16:28] ENGINE Waiting for child threads to terminate...\n"
     ]
    }
   ],
   "source": [
    "## Authenticate\n",
    "# TODO: Figure out how to authenticate without opening a browser window\n",
    "server = Oauth2.OAuth2Server(CLIENT_ID, CLIENT_SECRET)\n",
    "server.browser_authorize()\n",
    "ACCESS_TOKEN = str(server.fitbit.client.session.token['access_token'])\n",
    "REFRESH_TOKEN = str(server.fitbit.client.session.token['refresh_token'])\n",
    "auth2_client = fitbit.Fitbit(CLIENT_ID, CLIENT_SECRET, oauth2=True, access_token=ACCESS_TOKEN, refresh_token=REFRESH_TOKEN)"
   ]
  },
  {
   "cell_type": "code",
   "execution_count": 5,
   "metadata": {},
   "outputs": [],
   "source": [
    "## Set time bounds\n",
    "\n",
    "# First day I wore the fitbit\n",
    "first_day = datetime.datetime(2019,12,12)\n",
    "yesterday = datetime.datetime.now() - datetime.timedelta(days=1)\n",
    "\n",
    "# List of date objects from first_day to yesterday \n",
    "# (today's data is still being generated)\n",
    "date_list = [(today - datetime.timedelta(days=i)).date() \n",
    "             for i in range((today - first_day).days + 1)]\n",
    "\n",
    "# List of string-formatted dates\n",
    "str_list = list(map(lambda x: x.strftime(\"%Y-%m-%d\"), date_list))"
   ]
  },
  {
   "cell_type": "code",
   "execution_count": 7,
   "metadata": {},
   "outputs": [],
   "source": [
    "## Pull the raw data\n",
    "\n",
    "# Hold all available data in one dict\n",
    "raw = {'heart_sec': [],\n",
    "       'heart_min': [],\n",
    "       'calories': [], \n",
    "       'steps': [], \n",
    "       'floors': [], \n",
    "       'elevation': [],\n",
    "       'sleep': []\n",
    "      }\n",
    "\n",
    "# Sleep data\n",
    "raw['sleep'] = [auth2_client.get_sleep(date) for date in date_list]\n",
    "\n",
    "# Intraday data\n",
    "def get_intraday(resource, interval, date):\n",
    "    return auth2_client.intraday_time_series(\n",
    "        resource = f'activities/{resource}', \n",
    "        base_date=date, \n",
    "        detail_level=f'1{interval}'\n",
    "    )\n",
    "\n",
    "# Pull heart data at 1sec resolution\n",
    "[raw['heart_sec'].append(get_intraday('heart', 'sec', date))\n",
    " for date in str_list\n",
    "];\n",
    "\n",
    "# Pull all intraday data (incl. heart) at 1min resolution\n",
    "[val.append(get_intraday(('heart' if key is 'heart_min' else key), 'min', date))\n",
    " for key, val in raw.items()\n",
    " if key not in ('heart_sec', 'sleep')\n",
    " for date in str_list\n",
    "];\n"
   ]
  },
  {
   "cell_type": "code",
   "execution_count": 52,
   "metadata": {},
   "outputs": [
    {
     "name": "stdout",
     "output_type": "stream",
     "text": [
      "Building high-res (1sec) heart data df\n",
      "Building series for heart_min...\n",
      "Building series for calories...\n",
      "Building series for steps...\n",
      "Building series for floors...\n",
      "Building series for elevation...\n",
      "Constructing df from series_objs...\n"
     ]
    }
   ],
   "source": [
    "## Parse the data into dataframes\n",
    "\n",
    "# TODO: Maybe (?) parse the heart summary data\n",
    "# The only useful sub-structure of the 'activities-heart' key in a response is:\n",
    "# heart[0]['activities-heart'][0]['value']['heartRateZones']\n",
    "#\n",
    "# This is a short list of dicts whose keys are (caloriesOut, max, min, minutes, name) \n",
    "\n",
    "# TODO: Parse sleep summary data\n",
    "# The keys of the daily sleep summary response that we care about are:\n",
    "# sleep[0]['summary'].keys()\n",
    "# --> ['stages', 'totalMinutesAsleep', 'totalTimeInBed']\n",
    "# \n",
    "# These are scalars (except stages, which is a dict of scalars)\n",
    "# So they should be combined into a single 'sleep_summary' data frame\n",
    "# sleep_summary will be date-indexed and have the following columns:\n",
    "# cols = ['deep', 'light', 'rem', 'wake', 'totalMinutesAsleep', 'totalTimeInBed']\n",
    "\n",
    "# Put heart_sec in its own df because it's a different time resolution\n",
    "print(\"Building high-res (1sec) heart data df\")\n",
    "index = [datetime.datetime.combine(date_list[i], (parse(record['time'])).time())\n",
    "         for i, day in enumerate(raw['heart_sec'])\n",
    "         for record in day['activities-heart-intraday']['dataset']\n",
    "        ]\n",
    "\n",
    "data = {\n",
    "    'value': [record['value']\n",
    "              for i, day in enumerate(raw['heart_sec'])\n",
    "              for record in day['activities-heart-intraday']['dataset']\n",
    "        ]\n",
    "}\n",
    "\n",
    "heart_df = pd.DataFrame(data=data, index=index)\n",
    "heart_df.index.name = 'datetime'\n",
    "\n",
    "# Put the other intraday data in a single df\n",
    "# This is done by stitching together individual Series objects, \n",
    "# -> because the heart data has a different number of values\n",
    "series_objs = {}\n",
    "\n",
    "for key in raw:\n",
    "    if key not in ('heart_sec', 'sleep'):\n",
    "        print(f'Building series for {key}...')\n",
    "        # Different (coarser) indexes for this data\n",
    "        # Generate a different one for each in case the number of records is different\n",
    "        index = [datetime.datetime.combine(date_list[i], (parse(record['time'])).time())\n",
    "                 for i, day in enumerate(raw[key])\n",
    "                 for record in (day[f'activities-{key}-intraday']['dataset']\n",
    "                                if key is not 'heart_min'\n",
    "                                else day[f'activities-heart-intraday']['dataset']\n",
    "                               )\n",
    "                ]\n",
    "        \n",
    "        data = [record['value']\n",
    "                  for day in raw[key]\n",
    "                  for record in (day[f'activities-{key}-intraday']['dataset']\n",
    "                                 if key is not 'heart_min'\n",
    "                                 else day[f'activities-heart-intraday']['dataset']\n",
    "                                )\n",
    "        ]\n",
    "\n",
    "        series_objs[key] = pd.Series(data=data, index=index)\n",
    "        \n",
    "print(\"Constructing df from series_objs...\")\n",
    "intraday_df = pd.DataFrame(series_objs)\n",
    "intraday_df.index.name = 'datetime'\n",
    "\n",
    "print(\"All dataframes constructed. Saving...\")\n",
    "heart_df.to_csv('data/heart.csv')\n",
    "intraday_df.to_csv('data/intraday.csv')\n",
    "\n",
    "print(\"Done.\")"
   ]
  },
  {
   "cell_type": "code",
   "execution_count": null,
   "metadata": {},
   "outputs": [],
   "source": [
    "# ---- Munge the data into tables ----\n",
    "# DONE: 1sec heart data and all intraday data pulled into df\n",
    "# TODO: Decide about heart summary data\n",
    "# TODO: Put sleep summary data into df\n",
    "# TODO: Put sleep time series data into df\n",
    "\n",
    "# ---- Put the tables into a database ----\n",
    "# TODO: Write to local SQL DB instead of CSV\n",
    "# TODO: Move the DB to a (in-house or cloud) server\n",
    "\n",
    "# ---- Automatically pull the new data every day ----\n",
    "# TODO: Write script that pulls just yesterday's data and appends it to the DB\n",
    "# TODO: Run that script automatically every day at midnight"
   ]
  },
  {
   "cell_type": "code",
   "execution_count": 11,
   "metadata": {},
   "outputs": [
    {
     "data": {
      "text/plain": [
       "<matplotlib.axes._subplots.AxesSubplot at 0x117204450>"
      ]
     },
     "execution_count": 11,
     "metadata": {},
     "output_type": "execute_result"
    },
    {
     "data": {
      "image/png": "[encoded data removed]",
      "text/plain": [
       "<Figure size 432x288 with 1 Axes>"
      ]
     },
     "metadata": {
      "needs_background": "light"
     },
     "output_type": "display_data"
    }
   ],
   "source": [
    "heartdf.plot()"
   ]
  },
  {
   "cell_type": "code",
   "execution_count": null,
   "metadata": {},
   "outputs": [],
   "source": []
  }
 ],
 "metadata": {
  "kernelspec": {
   "display_name": "Python 3",
   "language": "python",
   "name": "python3"
  },
  "language_info": {
   "codemirror_mode": {
    "name": "ipython",
    "version": 3
   },
   "file_extension": ".py",
   "mimetype": "text/x-python",
   "name": "python",
   "nbconvert_exporter": "python",
   "pygments_lexer": "ipython3",
   "version": "3.7.5"
  }
 },
 "nbformat": 4,
 "nbformat_minor": 2
}
